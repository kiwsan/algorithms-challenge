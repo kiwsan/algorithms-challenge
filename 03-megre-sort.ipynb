{
 "cells": [
  {
   "cell_type": "markdown",
   "metadata": {},
   "source": [
    "# Merge Sort"
   ]
  },
  {
   "cell_type": "markdown",
   "metadata": {},
   "source": [
    "First divide the list into the smallest unit (1 element), then compare each element with the adjacent list to sort and merge the two adjacent lists. Finally all the elements are sorted and merged."
   ]
  },
  {
   "cell_type": "markdown",
   "metadata": {},
   "source": [
    "![merge sort](https://upload.wikimedia.org/wikipedia/commons/thumb/c/cc/Merge-sort-example-300px.gif/220px-Merge-sort-example-300px.gif)"
   ]
  },
  {
   "cell_type": "markdown",
   "metadata": {},
   "source": [
    "See following code implementation for details.\n",
    "\n",
    "1. Find the middle point to divide the array into two halves:  \n",
    "2. Call mergeSort for first half:   \n",
    "3. Call mergeSort for second half:\n",
    "4. Merge the two halves sorted in step 2 and 3:"
   ]
  },
  {
   "cell_type": "code",
   "execution_count": 105,
   "metadata": {},
   "outputs": [],
   "source": [
    "def merge(arr, left, right) :\n",
    "    i = j = k = 0 # i is index of left, j is index of right and k is counting loop\n",
    "    # Copy data to temp arrays left[] and right[] \n",
    "    while i < len(left) and j < len(right): \n",
    "        \n",
    "        if left[i] < right[j]: \n",
    "            arr[k] = left[i] \n",
    "            i+=1\n",
    "        else: \n",
    "            arr[k] = right[j] \n",
    "            j+=1\n",
    "            \n",
    "        # Counting loop\n",
    "        k+=1\n",
    "    \n",
    "    # Either left or right may have elements left; consume them.\n",
    "    # (Only one of the following loops will actually be entered.)\n",
    "    while i < len(left): \n",
    "        arr[k] = left[i] \n",
    "        i+=1\n",
    "        k+=1\n",
    "          \n",
    "    while j < len(right): \n",
    "        arr[k] = right[j] \n",
    "        j+=1\n",
    "        k+=1        "
   ]
  },
  {
   "cell_type": "markdown",
   "metadata": {},
   "source": [
    "![middle](https://media.geeksforgeeks.org/wp-content/cdn-uploads/gq/2013/03/scene00577.jpg)"
   ]
  },
  {
   "cell_type": "code",
   "execution_count": 106,
   "metadata": {},
   "outputs": [],
   "source": [
    "def mergeSort(arr) :\n",
    "    if len(arr) > 1:\n",
    "        middle = len(arr)//2 #Finding the mid of the array \n",
    "        # Dividing the array elements into 2 halves \n",
    "        left  = arr[:middle] \n",
    "        right = arr[middle:] \n",
    "        \n",
    "        # Recursively sort both sublists.\n",
    "        mergeSort(left)\n",
    "        mergeSort(right)\n",
    "\n",
    "        # Then merge the now-sorted sublists.\n",
    "        merge(arr, left, right)"
   ]
  },
  {
   "cell_type": "code",
   "execution_count": 107,
   "metadata": {},
   "outputs": [],
   "source": [
    "import unittest"
   ]
  },
  {
   "cell_type": "code",
   "execution_count": 108,
   "metadata": {},
   "outputs": [],
   "source": [
    "class TestExample(unittest.TestCase):\n",
    "    \"\"\"Use unittest in Jupyter.\"\"\"\n",
    "    \n",
    "    def test(self):\n",
    "        arr = [12, 11, 13, 5, 6, 7] \n",
    "        print('Gevin array:', arr)\n",
    "        mergeSort(arr)\n",
    "        print('Sorted array:', arr)\n",
    "        "
   ]
  },
  {
   "cell_type": "code",
   "execution_count": 109,
   "metadata": {},
   "outputs": [
    {
     "name": "stderr",
     "output_type": "stream",
     "text": [
      "."
     ]
    },
    {
     "name": "stdout",
     "output_type": "stream",
     "text": [
      "Gevin array: [12, 11, 13, 5, 6, 7]\n",
      "Sorted array: [5, 6, 7, 11, 12, 13]\n"
     ]
    },
    {
     "name": "stderr",
     "output_type": "stream",
     "text": [
      "\n",
      "----------------------------------------------------------------------\n",
      "Ran 1 test in 0.002s\n",
      "\n",
      "OK\n"
     ]
    }
   ],
   "source": [
    "if __name__ == '__main__':\n",
    "    unittest.main(argv=['first-arg-is-ignored'], exit=False)"
   ]
  },
  {
   "cell_type": "markdown",
   "metadata": {},
   "source": [
    "Resources :\n",
    "- https://www.geeksforgeeks.org/merge-sort/\n",
    "- https://en.wikipedia.org/wiki/Merge_sort\n",
    "- https://www.hackerearth.com/practice/algorithms/sorting/merge-sort/visualize/"
   ]
  },
  {
   "cell_type": "code",
   "execution_count": null,
   "metadata": {},
   "outputs": [],
   "source": []
  }
 ],
 "metadata": {
  "kernelspec": {
   "display_name": "Python 3",
   "language": "python",
   "name": "python3"
  },
  "language_info": {
   "codemirror_mode": {
    "name": "ipython",
    "version": 3
   },
   "file_extension": ".py",
   "mimetype": "text/x-python",
   "name": "python",
   "nbconvert_exporter": "python",
   "pygments_lexer": "ipython3",
   "version": "3.6.6"
  }
 },
 "nbformat": 4,
 "nbformat_minor": 2
}
