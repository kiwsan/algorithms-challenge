{
 "cells": [
  {
   "cell_type": "markdown",
   "metadata": {},
   "source": [
    "References :\n",
    "- https://www.investopedia.com/terms/s/sum-of-squares.asp\n",
    "- https://study.com/academy/lesson/sum-of-squares-definition-application.html#lesson\n",
    "- https://mathcracker.com/sum-squares-calculator#results"
   ]
  }
 ],
 "metadata": {
  "kernelspec": {
   "display_name": "Python 3",
   "language": "python",
   "name": "python3"
  }
 },
 "nbformat": 4,
 "nbformat_minor": 2
}
