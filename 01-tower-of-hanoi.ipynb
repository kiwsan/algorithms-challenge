{
 "cells": [
  {
   "cell_type": "markdown",
   "metadata": {},
   "source": [
    "# Tower of hanoi"
   ]
  },
  {
   "cell_type": "markdown",
   "metadata": {},
   "source": [
    "The objective of the puzzle is to move the entire stack to another rod, obeying the following simple rules: \n",
    "1. Only one disk can be moved at a time.\n",
    "2. Each move consists of taking the upper disk from one of the stacks and placing it on top of another stack or on an empty rod.\n",
    "3. No larger disk may be placed on top of a smaller disk."
   ]
  },
  {
   "cell_type": "markdown",
   "metadata": {},
   "source": [
    "Note: With 3 disks, the puzzle can be solved in 7 moves. The minimal number of moves required to solve a Tower of Hanoi puzzle is 2n − 1, where n is the number of disks. \n",
    "\n",
    "1. Move N-1 disks from left to middle.\n",
    "2. Move largest disk from left to right.\n",
    "3. Move N-1 disks from middle to right."
   ]
  },
  {
   "cell_type": "code",
   "execution_count": 1,
   "metadata": {},
   "outputs": [],
   "source": [
    "def tower_of_hanoi(n, left='left', right='right', middle='middle', count=0):\n",
    "    if n >= 1:\n",
    "        count += 1\n",
    "        count = tower_of_hanoi(n - 1, left, middle, right, count)\n",
    "        print(left, '-->', right)\n",
    "        count = tower_of_hanoi(n - 1, middle, right, left, count)\n",
    "        return count\n",
    "    else :\n",
    "        return count"
   ]
  },
  {
   "cell_type": "code",
   "execution_count": 2,
   "metadata": {
    "scrolled": true
   },
   "outputs": [],
   "source": [
    "import unittest"
   ]
  },
  {
   "cell_type": "code",
   "execution_count": 3,
   "metadata": {},
   "outputs": [],
   "source": [
    "class TestExample(unittest.TestCase):\n",
    "    \"\"\"Use unittest in Jupyter.\"\"\"\n",
    "    \n",
    "    def test(self):\n",
    "        print('--------------Case (3) can be solved in 7 moves----------------')\n",
    "        self.assertEqual(tower_of_hanoi(3), 7)\n",
    "        print('--------------Case (4) can be solved in 15 moves----------------')\n",
    "        self.assertEqual(tower_of_hanoi(4), 15)"
   ]
  },
  {
   "cell_type": "code",
   "execution_count": 4,
   "metadata": {},
   "outputs": [
    {
     "name": "stderr",
     "output_type": "stream",
     "text": [
      "."
     ]
    },
    {
     "name": "stdout",
     "output_type": "stream",
     "text": [
      "--------------Case (3) can be solved in 7 moves----------------\n",
      "left --> right\n",
      "left --> middle\n",
      "right --> middle\n",
      "left --> right\n",
      "middle --> left\n",
      "middle --> right\n",
      "left --> right\n",
      "--------------Case (4) can be solved in 15 moves----------------\n",
      "left --> middle\n",
      "left --> right\n",
      "middle --> right\n",
      "left --> middle\n",
      "right --> left\n",
      "right --> middle\n",
      "left --> middle\n",
      "left --> right\n",
      "middle --> right\n",
      "middle --> left\n",
      "right --> left\n",
      "middle --> right\n",
      "left --> middle\n",
      "left --> right\n",
      "middle --> right\n"
     ]
    },
    {
     "name": "stderr",
     "output_type": "stream",
     "text": [
      "\n",
      "----------------------------------------------------------------------\n",
      "Ran 1 test in 0.009s\n",
      "\n",
      "OK\n"
     ]
    }
   ],
   "source": [
    "if __name__ == '__main__':\n",
    "    unittest.main(argv=['first-arg-is-ignored'], exit=False)"
   ]
  },
  {
   "cell_type": "markdown",
   "metadata": {},
   "source": [
    "Resources\n",
    "- https://www.mathsisfun.com/games/towerofhanoi.html\n",
    "- https://en.wikipedia.org/wiki/Tower_of_Hanoi\n",
    "- https://medium.com/100-days-of-algorithms/day-1-hanoi-tower-94871efb7df3"
   ]
  },
  {
   "cell_type": "code",
   "execution_count": null,
   "metadata": {},
   "outputs": [],
   "source": []
  }
 ],
 "metadata": {
  "kernelspec": {
   "display_name": "Python 3",
   "language": "python",
   "name": "python3"
  },
  "language_info": {
   "codemirror_mode": {
    "name": "ipython",
    "version": 3
   },
   "file_extension": ".py",
   "mimetype": "text/x-python",
   "name": "python",
   "nbconvert_exporter": "python",
   "pygments_lexer": "ipython3",
   "version": "3.6.6"
  }
 },
 "nbformat": 4,
 "nbformat_minor": 2
}
