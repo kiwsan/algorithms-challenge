{
 "cells": [
  {
   "cell_type": "markdown",
   "metadata": {},
   "source": [
    "# Bucket Sort"
   ]
  },
  {
   "cell_type": "markdown",
   "metadata": {},
   "source": [
    "Bucket sort works as follows: \n",
    "\n",
    "1. Set up an array of initially empty \"buckets\".\n",
    "2. Scatter: Go over the original array, putting each object in its bucket. formular sort as follows : \n",
    "**value * number_of_elements / (maximum_array_value + 1)**\n",
    "3. Sort each non-empty bucket.\n",
    "4. Gather: Visit the buckets in order and put all elements back into the original array."
   ]
  },
  {
   "cell_type": "code",
   "execution_count": 2,
   "metadata": {},
   "outputs": [],
   "source": [
    "# The function nextSort is a sorting function used to sort each bucket. Conventionally, insertion sort would be used, \n",
    "# but other algorithm could be used as well. Using bucketSort itself as nextSort produces a relative of radix sort; \n",
    "# in particular, the case n = 2 corresponds to quicksort (although potentially with poor pivot choices). \n",
    "def nextSort(b): # this is insertion sort\n",
    "    for i in range(1, len(b)): \n",
    "        up = b[i] \n",
    "        j = i - 1\n",
    "        while j >=0 and b[j] > up:  \n",
    "            b[j + 1] = b[j] \n",
    "            j -= 1\n",
    "        b[j + 1] = up      \n",
    "    return b    "
   ]
  },
  {
   "cell_type": "code",
   "execution_count": 3,
   "metadata": {},
   "outputs": [],
   "source": [
    "def bucketSort(arr):\n",
    "    # buckets ← new array to empty lists\n",
    "    buckets = [[] for _ in range(len(arr))]\n",
    "    # maximum_array_value ← the maximum key value in the array\n",
    "    maximum_array_value = max(arr)\n",
    "    # insert array[i] into buckets[value*number_of_elements/(maximum_array_value+1]\n",
    "    number_of_elements = len(buckets)\n",
    "    for row, value in enumerate(arr):      \n",
    "        buckets[int(value*number_of_elements/(maximum_array_value+1))].append(value)\n",
    "    \n",
    "    # sort individual buckets  \n",
    "    for i in range(len(arr)): \n",
    "        buckets[i] = nextSort(buckets[i]) \n",
    "        \n",
    "    # concatenate the result \n",
    "    result = []\n",
    "    for i in range(len(arr)):\n",
    "        result += buckets[i]\n",
    "        \n",
    "    print('Buckets is', buckets)\n",
    "    \n",
    "    return result"
   ]
  },
  {
   "cell_type": "code",
   "execution_count": 4,
   "metadata": {},
   "outputs": [
    {
     "name": "stdout",
     "output_type": "stream",
     "text": [
      "Given an array [10, 5, 69, 5, 33, 46, 5, 3, 2, 9, 456, 1, 23, 5, 6]\n",
      "Buckets is [[1, 2, 3, 5, 5, 5, 5, 6, 9, 10, 23], [33, 46], [69], [], [], [], [], [], [], [], [], [], [], [], [456]]\n",
      "Sorted array: [1, 2, 3, 5, 5, 5, 5, 6, 9, 10, 23, 33, 46, 69, 456]\n"
     ]
    }
   ],
   "source": [
    "arr = [10,5,69,5,33,46,5,3,2,9,456,1,23,5,6]\n",
    "print('Given an array', arr)\n",
    "result = bucketSort(arr)\n",
    "print('Sorted array:', result)"
   ]
  },
  {
   "cell_type": "markdown",
   "metadata": {},
   "source": [
    "Resources :\n",
    "- https://en.wikipedia.org/wiki/Bucket_sort\n",
    "- http://algoanim.ide.sk/index.php?page=showanim&id=45\n",
    "- https://www.programiz.com/dsa/bucket-sort\n",
    "- https://stackoverflow.com/questions/25690175/bucket-sort-faster-than-quicksort/25690260"
   ]
  }
 ],
 "metadata": {
  "kernelspec": {
   "display_name": "Python 3",
   "language": "python",
   "name": "python3"
  },
  "language_info": {
   "codemirror_mode": {
    "name": "ipython",
    "version": 3
   },
   "file_extension": ".py",
   "mimetype": "text/x-python",
   "name": "python",
   "nbconvert_exporter": "python",
   "pygments_lexer": "ipython3",
   "version": "3.6.6"
  }
 },
 "nbformat": 4,
 "nbformat_minor": 2
}
