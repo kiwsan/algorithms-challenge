{
 "cells": [
  {
   "cell_type": "markdown",
   "metadata": {},
   "source": [
    "# Bucket Sort"
   ]
  },
  {
   "cell_type": "markdown",
   "metadata": {},
   "source": [
    "Bucket sort works as follows: \n",
    "\n",
    "1. Set up an array of initially empty \"buckets\".\n",
    "2. Scatter: Go over the original array, putting each object in its bucket.\n",
    "3. Sort each non-empty bucket.\n",
    "4. Gather: Visit the buckets in order and put all elements back into the original array."
   ]
  },
  {
   "cell_type": "markdown",
   "metadata": {},
   "source": [
    "Resources :\n",
    "- https://www.slideshare.net/shimulsakhawat/bucket-sort\n",
    "- https://en.wikipedia.org/wiki/Bucket_sort\n",
    "- http://www.algostructure.com/sorting/bucketsort.php"
   ]
  }
 ],
 "metadata": {
  "kernelspec": {
   "display_name": "Python 3",
   "language": "python",
   "name": "python3"
  },
  "language_info": {
   "codemirror_mode": {
    "name": "ipython",
    "version": 3
   },
   "file_extension": ".py",
   "mimetype": "text/x-python",
   "name": "python",
   "nbconvert_exporter": "python",
   "pygments_lexer": "ipython3",
   "version": "3.6.6"
  }
 },
 "nbformat": 4,
 "nbformat_minor": 2
}
