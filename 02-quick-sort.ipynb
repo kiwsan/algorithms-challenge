{
 "cells": [
  {
   "cell_type": "markdown",
   "metadata": {},
   "source": [
    "# QuickSort"
   ]
  },
  {
   "cell_type": "markdown",
   "metadata": {},
   "source": [
    "The key process in quickSort is partition(). Target of partitions is, given an array and an element x of array as pivot, put x at its correct position in sorted array and put all smaller elements (smaller than x) before x, and put all greater elements (greater than x) after x. All this should be done in linear time."
   ]
  },
  {
   "cell_type": "markdown",
   "metadata": {},
   "source": [
    "![QuickSort](https://upload.wikimedia.org/wikipedia/commons/thumb/6/6a/Sorting_quicksort_anim.gif/220px-Sorting_quicksort_anim.gif)\n",
    "\n",
    "We recursively perform three stebs\n",
    "\n",
    "1. Bring the privot to its apropiate position such that left of the pivot is smaller and right is greater.\n",
    "2. Quick sort the left part.\n",
    "3. Quick sort the right part.\n",
    "\n",
    "Partition\n",
    "Counter valiables\n",
    "I: Index of smaller element\n",
    "J: Loop variable"
   ]
  },
  {
   "cell_type": "code",
   "execution_count": 42,
   "metadata": {},
   "outputs": [],
   "source": [
    "def swap(arr, i, j):\n",
    "    arr[i],arr[j] = arr[j],arr[i]"
   ]
  },
  {
   "cell_type": "code",
   "execution_count": 43,
   "metadata": {},
   "outputs": [],
   "source": [
    "# Bring the privot to its apropiate position such that left of the pivot is smaller and right is greater.\n",
    "def partition(arr, left, right):\n",
    "    i = (left-1) # index of smaller element\n",
    "    pivot = arr[right] # pivot\n",
    "    \n",
    "    for j in range(left, right): # Loop variable\n",
    "        if arr[j] < pivot:\n",
    "            # increment index of smaller element\n",
    "            i = i+1\n",
    "            # swap arr[i] and arr[j] \n",
    "            swap(arr, i, j)\n",
    "    \n",
    "    i = i+1 # added 1 to smaller element when index of smaller element not use in the array\n",
    "    # we come out of loop and we will have swap index of pivot \n",
    "    swap(arr, i, right)\n",
    "    \n",
    "    return i"
   ]
  },
  {
   "cell_type": "markdown",
   "metadata": {},
   "source": [
    "![Pivot](https://www.geeksforgeeks.org/wp-content/uploads/gq/2014/01/scene00865-300x173.jpg)"
   ]
  },
  {
   "cell_type": "code",
   "execution_count": 44,
   "metadata": {},
   "outputs": [],
   "source": [
    "# Quick sort\n",
    "def quickSort(arr, left, right):\n",
    "    if left < right:\n",
    "        # patition an array\n",
    "        patition_index = partition(arr, 0, n-1) \n",
    "        \n",
    "        smaller_in = left # First left is index of pivot\n",
    "        pivot_in = patition_index-1 # First patition_index-1 is index of pivot\n",
    "        # swap quick sort left\n",
    "        quickSort(arr, smaller_in, pivot_in) \n",
    "        \n",
    "        smaller_in = patition_index-1 # Then patition_index-1 is index of pivot\n",
    "        pivot_in = right # Then right is index of pivot\n",
    "        # swap quick sort right\n",
    "        quickSort(arr, smaller_in, pivot_in)\n",
    "        \n",
    "        # Alright array is sorted"
   ]
  },
  {
   "cell_type": "code",
   "execution_count": 45,
   "metadata": {},
   "outputs": [],
   "source": [
    "import unittest"
   ]
  },
  {
   "cell_type": "code",
   "execution_count": 46,
   "metadata": {},
   "outputs": [],
   "source": [
    "class TestExample(unittest.TestCase):\n",
    "    \"\"\"Use unittest in Jupyter.\"\"\"\n",
    "    \n",
    "    def testPartition(self):\n",
    "        arr = [10, 80, 30, 90, 40, 50, 70] \n",
    "        n = len(arr) \n",
    "        patition_index = partition(arr, 0, n-1)\n",
    "        print('Partitioned array:',arr)\n",
    "    \n",
    "    def testQuickSort(self):\n",
    "        arr = [10, 80, 30, 90, 40, 50, 70] \n",
    "        n = len(arr) \n",
    "        partition(arr, 0, n-1)\n",
    "        print('Sorted array:', arr)"
   ]
  },
  {
   "cell_type": "code",
   "execution_count": 47,
   "metadata": {},
   "outputs": [
    {
     "name": "stderr",
     "output_type": "stream",
     "text": [
      ".."
     ]
    },
    {
     "name": "stdout",
     "output_type": "stream",
     "text": [
      "Partitioned array: [10, 30, 40, 50, 70, 90, 80]\n",
      "Sorted array: [10, 30, 40, 50, 70, 90, 80]\n"
     ]
    },
    {
     "name": "stderr",
     "output_type": "stream",
     "text": [
      "\n",
      "----------------------------------------------------------------------\n",
      "Ran 2 tests in 0.006s\n",
      "\n",
      "OK\n"
     ]
    }
   ],
   "source": [
    "if __name__ == '__main__':\n",
    "    unittest.main(argv=['first-arg-is-ignored'], exit=False)"
   ]
  },
  {
   "cell_type": "markdown",
   "metadata": {},
   "source": [
    "Resources :\n",
    "- https://www.geeksforgeeks.org/quick-sort/\n",
    "- https://en.wikipedia.org/wiki/Quicksort\n",
    "- https://www.hackerearth.com/practice/algorithms/sorting/quick-sort/visualize/"
   ]
  },
  {
   "cell_type": "code",
   "execution_count": null,
   "metadata": {},
   "outputs": [],
   "source": []
  }
 ],
 "metadata": {
  "kernelspec": {
   "display_name": "Python 3",
   "language": "python",
   "name": "python3"
  },
  "language_info": {
   "codemirror_mode": {
    "name": "ipython",
    "version": 3
   },
   "file_extension": ".py",
   "mimetype": "text/x-python",
   "name": "python",
   "nbconvert_exporter": "python",
   "pygments_lexer": "ipython3",
   "version": "3.6.6"
  }
 },
 "nbformat": 4,
 "nbformat_minor": 2
}
