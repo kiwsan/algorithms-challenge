{
 "cells": [
  {
   "cell_type": "markdown",
   "metadata": {},
   "source": [
    "# Heap Sort"
   ]
  },
  {
   "cell_type": "markdown",
   "metadata": {},
   "source": [
    "The Heapsort algorithm involves preparing the list by first turning it into a max heap. The algorithm then repeatedly swaps the first value of the list with the last value, decreasing the range of values considered in the heap operation by one, and sifting the new first value into its position in the heap. This repeats until the range of considered values is one value in length.\n",
    "\n",
    "The steps are:\n",
    "\n",
    "1. Call the buildMaxHeap() function on the list. Also referred to as heapify(), this builds a heap from a list in O(n) operations.\n",
    "2. Swap the first element of the list with the final element. Decrease the considered range of the list by one.\n",
    "3. Call the siftDown() function on the list to sift the new first element to its appropriate index in the heap.\n",
    "4. Go to step (2) unless the considered range of the list is one element.\n",
    "\n",
    "The buildMaxHeap() operation is run once, and is O(n) in performance. The siftDown() function is O(log n), and is called n times. Therefore, the performance of this algorithm is O(n + n log n) = O(n log n). "
   ]
  },
  {
   "cell_type": "markdown",
   "metadata": {},
   "source": [
    "![heap sort](https://upload.wikimedia.org/wikipedia/commons/1/1b/Sorting_heapsort_anim.gif)"
   ]
  },
  {
   "cell_type": "code",
   "execution_count": 58,
   "metadata": {},
   "outputs": [],
   "source": [
    "def swap_if_greater(arr, parent, child) :\n",
    "    if arr[parent] < arr[child]:\n",
    "        arr[parent], arr[child] = arr[child], arr[parent]"
   ]
  },
  {
   "cell_type": "code",
   "execution_count": 80,
   "metadata": {},
   "outputs": [],
   "source": [
    "# (Repair the heap whose root element is at index 'start', assuming the heaps rooted at its children are valid)\n",
    "def siftDown(arr, start, end) :\n",
    "    find_greater = lambda left, right: left if arr[left] > arr[right] else right\n",
    "    while ((start*2)+2) < end : # (While the root has at least one child)\n",
    "        left_child = ((start*2)+1)\n",
    "        right_child = ((start*2)+2)\n",
    "        \n",
    "        greater = find_greater(left_child, right_child)\n",
    "        \n",
    "        swap_if_greater(arr, start, greater)\n",
    "        \n",
    "        start = greater "
   ]
  },
  {
   "cell_type": "code",
   "execution_count": 60,
   "metadata": {},
   "outputs": [],
   "source": [
    "# Referred to as heapify(), \n",
    "def heapify(arr):\n",
    "    count = len(arr)\n",
    "    for i in range((count//2)-1, -1, -1):\n",
    "        siftDown(arr, i, count)"
   ]
  },
  {
   "cell_type": "code",
   "execution_count": 86,
   "metadata": {},
   "outputs": [],
   "source": [
    "def heapSort(arr) :\n",
    "    count = len(arr)\n",
    "    \n",
    "    # build max heap, this builds a heap from a list in O(n) operations.\n",
    "    heapify(arr)\n",
    "    \n",
    "    print(\"Build heap:\", arr)\n",
    "    \n",
    "    # sort\n",
    "    for i in range(count-1, 0, -1):                   \n",
    "        swap_if_greater(arr, i, 0)                                 \n",
    "        siftDown(arr, 0, i)                                 "
   ]
  },
  {
   "cell_type": "code",
   "execution_count": 87,
   "metadata": {},
   "outputs": [
    {
     "name": "stdout",
     "output_type": "stream",
     "text": [
      "Build heap: [456, 33, 69, 5, 10, 46, 6, 3, 2, 9, 5, 1, 23, 5, 5]\n",
      "Heap sort: [1, 2, 3, 5, 5, 5, 5, 6, 9, 10, 23, 33, 46, 69, 456]\n"
     ]
    }
   ],
   "source": [
    "arr = [10,5,69,5,33,46,5,3,2,9,456,1,23,5,6]\n",
    "\n",
    "heapSort(arr)\n",
    "\n",
    "print(\"Heap sort:\", arr)"
   ]
  },
  {
   "cell_type": "markdown",
   "metadata": {},
   "source": [
    "Resources :\n",
    "- http://btv.melezinek.cz/binary-heap.html\n",
    "- https://en.wikipedia.org/wiki/Heapsort\n",
    "- https://www.geeksforgeeks.org/heap-sort/\n",
    "- http://www2.hawaii.edu/~janst/demos/s97/mike/HSGuide.html"
   ]
  }
 ],
 "metadata": {
  "kernelspec": {
   "display_name": "Python 3",
   "language": "python",
   "name": "python3"
  },
  "language_info": {
   "codemirror_mode": {
    "name": "ipython",
    "version": 3
   },
   "file_extension": ".py",
   "mimetype": "text/x-python",
   "name": "python",
   "nbconvert_exporter": "python",
   "pygments_lexer": "ipython3",
   "version": "3.6.6"
  }
 },
 "nbformat": 4,
 "nbformat_minor": 2
}
