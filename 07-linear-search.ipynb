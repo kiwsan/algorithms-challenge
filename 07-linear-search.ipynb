{
 "cells": [
  {
   "cell_type": "markdown",
   "metadata": {},
   "source": [
    "# Linear Search"
   ]
  },
  {
   "cell_type": "markdown",
   "metadata": {},
   "source": [
    "Problem: Given an array arr[] of n elements, write a function to search a given element x in arr[].\n",
    "\n",
    "Works as follows: :\n",
    "1. Start from the leftmost element of arr[] and one by one compare x with each element of arr[]\n",
    "2. If n matches with an element, return the index.\n",
    "3. If n doesn’t match with any of elements, return -1."
   ]
  },
  {
   "cell_type": "markdown",
   "metadata": {},
   "source": [
    "![step](https://www.geeksforgeeks.org/wp-content/uploads/Linear-Search.png)"
   ]
  },
  {
   "cell_type": "code",
   "execution_count": 3,
   "metadata": {},
   "outputs": [],
   "source": [
    "def linearSearchForLoop(arr, value) :\n",
    "    \n",
    "    for n in range(0, len(arr)) :\n",
    "        if arr[n] == value:\n",
    "            return n\n",
    "       \n",
    "    return -1"
   ]
  },
  {
   "cell_type": "code",
   "execution_count": 15,
   "metadata": {},
   "outputs": [],
   "source": [
    "def linearSearchWhileLoop(arr, value) :\n",
    "    n = 0\n",
    "    \n",
    "    while n < len(arr) :\n",
    "        if arr[n] == value :\n",
    "            return n\n",
    "        n += 1\n",
    "    \n",
    "    return -1"
   ]
  },
  {
   "cell_type": "code",
   "execution_count": 16,
   "metadata": {},
   "outputs": [],
   "source": [
    "import unittest"
   ]
  },
  {
   "cell_type": "code",
   "execution_count": 19,
   "metadata": {},
   "outputs": [],
   "source": [
    "class TestExample(unittest.TestCase):\n",
    "    \"\"\"Use unittest in Jupyter.\"\"\"\n",
    "    \n",
    "    arr = [4,2,66,5,97,5,366,2,45,89,5,411,25,47,6,7]\n",
    "    \n",
    "    def testLinearSearchForLoop(self):\n",
    "        result = linearSearchForLoop(arr, 5)\n",
    "        if result == -1 :\n",
    "            print(\"(For loop) Element is not found in array.\")\n",
    "        else :\n",
    "            print(\"(For loop) Element is present at index:\", result)     \n",
    "            \n",
    "    def testLinearSearchWhileLoop(self):\n",
    "        result = linearSearchWhileLoop(arr, 7)\n",
    "        if result == -1 :\n",
    "            print(\"(While loop) Element is not found in array.\")\n",
    "        else :\n",
    "            print(\"(While loop) Element is present at index:\", result)     "
   ]
  },
  {
   "cell_type": "code",
   "execution_count": 20,
   "metadata": {},
   "outputs": [
    {
     "name": "stderr",
     "output_type": "stream",
     "text": [
      ".."
     ]
    },
    {
     "name": "stdout",
     "output_type": "stream",
     "text": [
      "(For loop) Element is present at index: 3\n",
      "(While loop) Element is present at index: 15\n"
     ]
    },
    {
     "name": "stderr",
     "output_type": "stream",
     "text": [
      "\n",
      "----------------------------------------------------------------------\n",
      "Ran 2 tests in 0.003s\n",
      "\n",
      "OK\n"
     ]
    }
   ],
   "source": [
    "if __name__ == '__main__':\n",
    "    unittest.main(argv=['first-arg-is-ignored'], exit=False)"
   ]
  },
  {
   "cell_type": "markdown",
   "metadata": {},
   "source": [
    "References :\n",
    "- https://www.cs.usfca.edu/~galles/visualization/Search.html\n",
    "- https://www.geeksforgeeks.org/linear-search/"
   ]
  }
 ],
 "metadata": {
  "kernelspec": {
   "display_name": "Python 3",
   "language": "python",
   "name": "python3"
  },
  "language_info": {
   "codemirror_mode": {
    "name": "ipython",
    "version": 3
   },
   "file_extension": ".py",
   "mimetype": "text/x-python",
   "name": "python",
   "nbconvert_exporter": "python",
   "pygments_lexer": "ipython3",
   "version": "3.6.6"
  }
 },
 "nbformat": 4,
 "nbformat_minor": 2
}
