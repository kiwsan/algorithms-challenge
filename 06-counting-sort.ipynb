{
 "cells": [
  {
   "cell_type": "markdown",
   "metadata": {},
   "source": [
    "# Counting Sort"
   ]
  },
  {
   "cell_type": "markdown",
   "metadata": {},
   "source": [
    "In Counting sort, the frequencies of distinct elements of the array to be sorted is counted and stored in an auxiliary array, by mapping its value as an index of the auxiliary array. "
   ]
  },
  {
   "cell_type": "markdown",
   "metadata": {},
   "source": [
    "![Alt Text](https://media.giphy.com/media/4QFqHZol4b1yGwti6A/giphy.gif)"
   ]
  },
  {
   "cell_type": "code",
   "execution_count": 6,
   "metadata": {},
   "outputs": [],
   "source": [
    "def countingSort(arr) :\n",
    "    # find the maximum value in arr[] array\n",
    "    max_value = max(arr)+1 # = array of max+1 zeros\n",
    "    \n",
    "    # initialize the elements of aux[] array    \n",
    "    aux = [0 for i in range(max_value)]\n",
    "    \n",
    "    # store the frequencies of each distinct element of arr array,\n",
    "    # by mapping its value as the index of aux[] array\n",
    "    for i in range(len(arr)) :\n",
    "        aux[arr[i]] += 1\n",
    "    \n",
    "    print(\"Aux array:\", aux)\n",
    "     \n",
    "    # change aux[i] so that aux[i] now contains actual \n",
    "    # position of this character in output array \n",
    "    for i in range(len(arr)) :\n",
    "        aux[i+1] = (aux[i+1] + aux[i])\n",
    "    \n",
    "    print(\"Change Aux array:\", aux)\n",
    "    \n",
    "    # array of the same length as input\n",
    "    sortedArr = [0 for i in range(len(arr))] # initialize the elements of sortedArr[] array, \n",
    "    \n",
    "    for i in range(len(arr)-1,-1,-1) :\n",
    "        aux[arr[i]] = aux[arr[i]]-1 # change aux[arr[i]] value - 1  \n",
    "        sortedArr[aux[arr[i]]] = arr[i] # get the element of sortedArr[] array by aux[arr[i]] and adding arr[i] value\n",
    "    \n",
    "    return sortedArr"
   ]
  },
  {
   "cell_type": "code",
   "execution_count": 7,
   "metadata": {
    "scrolled": true
   },
   "outputs": [
    {
     "name": "stdout",
     "output_type": "stream",
     "text": [
      "Input Array: [9, 30, 28, 17, 30, 6, 23, 5, 15, 30, 26, 25, 1, 26, 11, 24, 19, 30, 22, 16, 30, 14, 11, 10, 4, 14, 11, 5, 26, 18]\n",
      "Aux array: [0, 1, 0, 0, 1, 2, 1, 0, 0, 1, 1, 3, 0, 0, 2, 1, 1, 1, 1, 1, 0, 0, 1, 1, 1, 1, 3, 0, 1, 0, 5]\n",
      "Change Aux array: [0, 1, 1, 1, 2, 4, 5, 5, 5, 6, 7, 10, 10, 10, 12, 13, 14, 15, 16, 17, 17, 17, 18, 19, 20, 21, 24, 24, 25, 25, 30]\n",
      "Sorted array: [1, 4, 5, 5, 6, 9, 10, 11, 11, 11, 14, 14, 15, 16, 17, 18, 19, 22, 23, 24, 25, 26, 26, 26, 28, 30, 30, 30, 30, 30]\n"
     ]
    }
   ],
   "source": [
    "arr = [9,30,28,17,30,6,23,5,15,30,26,25,1,26,11,24,19,30,22,16,30,14,11,10,4,14,11,5,26,18]\n",
    "\n",
    "print(\"Input Array:\", arr)\n",
    "\n",
    "sortedArr = countingSort(arr)\n",
    "\n",
    "print(\"Sorted array:\", sortedArr)"
   ]
  },
  {
   "cell_type": "markdown",
   "metadata": {},
   "source": [
    "References :\n",
    "- https://www.cs.usfca.edu/~galles/visualization/CountingSort.html\n",
    "- https://en.wikipedia.org/wiki/Counting_sort\n",
    "- https://www.hackerearth.com/practice/algorithms/sorting/counting-sort/tutorial/\n",
    "- https://github.com/alejandro123210/CountSortVisualization"
   ]
  }
 ],
 "metadata": {
  "kernelspec": {
   "display_name": "Python 3",
   "language": "python",
   "name": "python3"
  },
  "language_info": {
   "codemirror_mode": {
    "name": "ipython",
    "version": 3
   },
   "file_extension": ".py",
   "mimetype": "text/x-python",
   "name": "python",
   "nbconvert_exporter": "python",
   "pygments_lexer": "ipython3",
   "version": "3.6.6"
  }
 },
 "nbformat": 4,
 "nbformat_minor": 2
}
